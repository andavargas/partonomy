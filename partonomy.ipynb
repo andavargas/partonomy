{
 "cells": [
  {
   "cell_type": "code",
   "execution_count": null,
   "metadata": {
    "collapsed": false
   },
   "outputs": [],
   "source": [
    "# import statements\n",
    "import numpy as np\n",
    "import matplotlib.pyplot as plt\n",
    "import ast\n",
    "%matplotlib notebook"
   ]
  },
  {
   "cell_type": "code",
   "execution_count": null,
   "metadata": {
    "collapsed": false
   },
   "outputs": [],
   "source": [
    "dusts = {} # dusts[i] is an un-nested array of strings, with none ending in ints\n",
    "partonomies = {} # partonomies[i] is the corresponding nested array, as a string, with no int > 9\n",
    "\n",
    "# water down to elementary particles\n",
    "dusts['water'] = ['uq', 'uq', 'dq', 'e', 'e', 'e', 'e', 'e', 'uq', 'uq', 'dq', 'uq', 'uq', 'dq', 'uq', 'uq', 'dq', 'uq', 'uq', 'dq', 'uq', 'uq', 'dq', 'uq', 'uq', 'dq', 'uq', 'uq', 'dq', 'uq', 'uq', 'dq',\n",
    "                  'uq', 'dq', 'dq', 'uq', 'dq', 'dq', 'uq', 'dq', 'dq', 'uq', 'dq', 'dq', 'uq', 'dq', 'dq', 'uq', 'dq', 'dq', 'uq', 'dq', 'dq', 'uq', 'dq', 'dq', 'e', 'e', 'e', 'e', 'e', 'uq', 'uq', 'dq'] \n",
    "partonomies['water'] = '[[[3],1],[4,[[3],[3],[3],[3],[3],[3],[3],[3],[3],[3],[3],[3],[3],[3],[3],[3]],4],[1,[3]]]'\n",
    "\n",
    "# Helium down to elementary particles\n",
    "dusts['He'] = ['e', 'uq', 'uq', 'dq', 'uq', 'dq', 'dq', 'uq', 'uq', 'dq', 'uq', 'dq', 'dq', 'e']\n",
    "partonomies['He'] = '[1,[[3],[3],[3],[3]],1]'\n",
    "\n",
    "# Hydrogen down to elementary particles\n",
    "dusts['H'] = ['e', 'uq', 'uq', 'dq']\n",
    "partonomies['H'] = '[1,[3]]'\n",
    "\n",
    "# not a Gandhi quote down to words\n",
    "dusts['chomsky'] = ['colorless', 'green', 'ideas', 'sleep', 'furiously']\n",
    "partonomies['chomsky'] = '[[1,[2]],[2]]'\n",
    "\n",
    "# the Bible down to books\n",
    "dusts['bible'] = ['Genesis', 'Exodus', 'Leviticus', 'Numbers', 'Deuteronomy', 'Joshua',\n",
    "                  'Judges', 'Ruth', 'I Samuel', 'II Samuel', 'I Kings', 'II Kings',\n",
    "                  'I Chronicles', 'II Chronicles', 'Ezra', 'Nehemiah', 'Esther', 'Job',\n",
    "                  'Psalms', 'Proverbs', 'Ecclesiastes', 'Song of Solomon', 'Isaiah',\n",
    "                  'Jeremiah', 'Lamentations', 'Ezekiel', 'Daniel', 'Hosea', 'Joel', 'Amos',\n",
    "                  'Obadiah', 'Jonah', 'Micah', 'Nahum', 'Habbakkuk', 'Zephaniah', 'Haggai',\n",
    "                  'Zecharaiah', 'Malachi', 'Matthew', 'Mark', 'Luke', 'John', 'Acts',\n",
    "                  'Romans', 'I Corinthians', 'II Corinthians', 'Galatians', 'Ephesians',\n",
    "                  'Philippians', 'Colossians', 'I Thessalonians', 'II Thessalonians',\n",
    "                  'I Timothy', 'II Timothy', 'Titus', 'Philemon', 'Hebrews', 'James',\n",
    "                  'I Peter', 'II Peter', 'I John', 'II John', 'III John', 'Jude', 'Revelation']\n",
    "partonomies['bible'] = '[[[5],[3,[2],[2],[2],3],[5],[[5],[9,3]]],[[4],1,[1,[2],4,[2],[2],3],[1,[2],[3],1],1]]'\n",
    "\n",
    "# Spain down to provinces\n",
    "dusts['spain'] = ['A Corunna', 'Lugo', 'Pontevedra', 'Ourense', 'Asturias', 'Cantabria',\n",
    "                  'Bizkaia', 'Araba', 'Gipuzkoa', 'Navarra', 'La Rioja', 'León', 'Palencia',\n",
    "                  'Burgos', 'Zamora', 'Valladolid', 'Soria', 'Salamanca', 'Ávila', 'Segovia', \n",
    "                  'Madrid', 'Huesca', 'Zaragoza', 'Teruel', 'Lleida', 'Girona', 'Barcelona',\n",
    "                  'Tarragona', 'Cáceres', 'Badajoz', 'Guadalajara', 'Toledo', 'Cuenca',\n",
    "                  'Ciudad Real', 'Albacete', 'Castelló', 'Valenca', 'Alacant', 'Huelva',\n",
    "                  'Sevilla', 'Córdoba', 'Jaén', 'Cádiz', 'Málaga', 'Almeria', 'Murcia',\n",
    "                  'Illes Balears', 'Santa Cruz de Tenerife', 'Las Palmas']\n",
    "partonomies['spain'] = '[[4],2,[3],2,[9],1,[3],[4],[2],[5],[3],[7],2,[2]]'\n",
    "\n",
    "# partonomy of this\n",
    "dusts['this'] = ['import statements', 'water', 'Helium', 'Hydrogen', 'chomsky', 'Bible',\n",
    "                 'Spain', 'this', 'execution', 'pulverize_partonomy_numbers',\n",
    "                 'increment_partonomy_numbers', 'clean_partonomy_string', 'populate_partonomy',\n",
    "                 'make_partonomy', 'count_levels', 'count_dust', 'get_first', 'get_last',\n",
    "                 'find_center', 'xy_to_string', 'string_to_xy', 'rescale_level', 'get_coords',\n",
    "                 'plot_coords', 'draw_partonomy']\n",
    "partonomies['this'] = '[[1,[7]],1,[[[5]],[[2],[3],[2],[2],1],1]]'"
   ]
  },
  {
   "cell_type": "code",
   "execution_count": null,
   "metadata": {
    "collapsed": false
   },
   "outputs": [],
   "source": [
    "use = 'this' # place here which entity you intend to use\n",
    "\n",
    "# this will work after all the blocks have been executed\n",
    "partonomy, dust = make_partonomy(partonomies, dusts, use)\n",
    "draw_partonomy(partonomy, dust)"
   ]
  },
  {
   "cell_type": "code",
   "execution_count": null,
   "metadata": {
    "collapsed": true
   },
   "outputs": [],
   "source": [
    "# convert numbers in a partonomy string to sequence of 1's\n",
    "def pulverize_partonomy_numbers(non_pulverized_partonomy_string, dummy):\n",
    "    for i in range(1,10):\n",
    "        old = str(i)\n",
    "        new = ',' + (dummy + ',') * i\n",
    "        non_pulverized_partonomy_string = non_pulverized_partonomy_string.replace(old, new)\n",
    "    return non_pulverized_partonomy_string\n",
    "\n",
    "# convert sequence of 1's to sequence of whole numbers\n",
    "def increment_partonomy_numbers(pulverized_partonomy_string, dummy):\n",
    "    count = pulverized_partonomy_string.count(dummy)\n",
    "    for i in range (0,count):\n",
    "        old = ',' + dummy + ','\n",
    "        new = ',' + str(i) + ','\n",
    "        pulverized_partonomy_string = pulverized_partonomy_string.replace(old, new, 1)\n",
    "    return pulverized_partonomy_string\n",
    "\n",
    "# clean up extra commas that were probably introduced along the way\n",
    "def clean_partonomy_string(dirty_partonomy_string):\n",
    "    while ',,' in dirty_partonomy_string:\n",
    "        dirty_partonomy_string = dirty_partonomy_string.replace(',,',',')\n",
    "    while '[,' in dirty_partonomy_string:\n",
    "        dirty_partonomy_string = dirty_partonomy_string.replace('[,','[')\n",
    "    while ',]' in dirty_partonomy_string:\n",
    "        dirty_partonomy_string = dirty_partonomy_string.replace(',]',']')\n",
    "    return dirty_partonomy_string\n",
    "\n",
    "# replace whole numbers in the partonomy with strings from the dust\n",
    "def populate_partonomy(unpopulated, dust):\n",
    "    if isinstance(unpopulated, list):\n",
    "        return [populate_partonomy(i, dust) for i in unpopulated]\n",
    "    else:\n",
    "        return dust[unpopulated]\n",
    "\n",
    "# build the partonomy\n",
    "def make_partonomy(partonomies, dusts, use, dummy='~'):\n",
    "    partonomy = partonomies[use]\n",
    "    dust = dusts[use]\n",
    "    \n",
    "    partonomy = partonomy.replace(' ','')\n",
    "    partonomy_ones = pulverize_partonomy_numbers(partonomy, dummy)\n",
    "    partonomy_ints = increment_partonomy_numbers(partonomy_ones, dummy)\n",
    "    partonomy_ints_clean = clean_partonomy_string(partonomy_ints)\n",
    "    partonomy_ints_array = ast.literal_eval(partonomy_ints_clean)\n",
    "    \n",
    "    dust_ints = [d+str(i) for i,d in enumerate(dust)]\n",
    "    partonomy_strings_ints_array = populate_partonomy(partonomy_ints_array, dust_ints)\n",
    "    \n",
    "    return partonomy_strings_ints_array, dust_ints"
   ]
  },
  {
   "cell_type": "code",
   "execution_count": null,
   "metadata": {
    "collapsed": false
   },
   "outputs": [],
   "source": [
    "# count hierachical depth of a constituent (didn't end up using this in the end)\n",
    "def count_levels(partonomy):\n",
    "    if isinstance(partonomy, list):\n",
    "        return 1 + max(count_levels(i) for i in partonomy)\n",
    "    else:\n",
    "        return 0\n",
    "\n",
    "# count number of dust elements in a constituent\n",
    "def count_dust(partonomy, count=0):\n",
    "    if isinstance(partonomy, list):\n",
    "        return sum(count_dust(i, count) for i in partonomy)\n",
    "    else:\n",
    "        return count+1"
   ]
  },
  {
   "cell_type": "code",
   "execution_count": null,
   "metadata": {
    "collapsed": true
   },
   "outputs": [],
   "source": [
    "# get string of first dust element in a constituent\n",
    "def get_first(partonomy):\n",
    "    if isinstance(partonomy, list):\n",
    "        return get_first(partonomy[0])\n",
    "    else:\n",
    "        return partonomy\n",
    "\n",
    "# get string of last dust element in a constituent\n",
    "def get_last(partonomy):\n",
    "    if isinstance(partonomy, list):\n",
    "        return get_last(partonomy[-1])\n",
    "    else:\n",
    "        return partonomy\n",
    "\n",
    "# find the center of all of the dust elements in a constituent\n",
    "def find_center(partonomy, dust):\n",
    "    return np.mean([dust.index(get_first(partonomy)), dust.index(get_last(partonomy))])"
   ]
  },
  {
   "cell_type": "code",
   "execution_count": null,
   "metadata": {
    "collapsed": false
   },
   "outputs": [],
   "source": [
    "# convert tuple to string\n",
    "def xy_to_string(x, y):\n",
    "    return str(x)+','+str(y)\n",
    "\n",
    "# convert string to tuple\n",
    "def string_to_xy(string):\n",
    "    x, y = string.split(',')\n",
    "    return float(x), float(y)"
   ]
  },
  {
   "cell_type": "code",
   "execution_count": null,
   "metadata": {
    "collapsed": false
   },
   "outputs": [],
   "source": [
    "# a function for rescaling the hierarchical depth, to create non-linear branching\n",
    "def rescale_level(level):\n",
    "    return level**1.5\n",
    "\n",
    "# find the coordinates of all nodes\n",
    "def get_coords(partonomy, dust, parent_center):\n",
    "    if isinstance(partonomy, list):\n",
    "        level = (count_dust(partonomy) - 1) / (len(dust) - 1) # - 1 for fenceposting\n",
    "        #level = rescale_level(level)\n",
    "        center = find_center(partonomy, dust)\n",
    "        parent_coords = xy_to_string(center, level)\n",
    "        children_coords = [get_coords(i, dust, center) for i in partonomy]\n",
    "        return {parent_coords: children_coords}\n",
    "    else:\n",
    "        return (find_center(partonomy, dust), 0)"
   ]
  },
  {
   "cell_type": "code",
   "execution_count": null,
   "metadata": {
    "collapsed": false
   },
   "outputs": [],
   "source": [
    "# plot everything\n",
    "def plot_coords(coords, ax, parentx=None, parenty=None):\n",
    "    if isinstance(coords, list):\n",
    "        for i in coords:\n",
    "            plot_coords(i, ax, parentx, parenty)\n",
    "    elif isinstance(coords, dict):\n",
    "        for key in coords.keys():\n",
    "            x, y = string_to_xy(key)\n",
    "            ax.scatter(x, y, color='black')\n",
    "            if parentx is not None:\n",
    "                ax.plot([parentx, x], [parenty, y], color='black')\n",
    "            plot_coords(coords[key], ax, x, y)\n",
    "    elif isinstance(coords, tuple):\n",
    "        x, y = list(coords)\n",
    "        ax.scatter(x, y, color='black')\n",
    "        if parentx is not None:\n",
    "            ax.plot([parentx, x], [parenty, y], color='black')"
   ]
  },
  {
   "cell_type": "code",
   "execution_count": null,
   "metadata": {
    "collapsed": false
   },
   "outputs": [],
   "source": [
    "# draw the partonomy and show it\n",
    "def draw_partonomy(partonomy, dust, plot_dust_names=True):\n",
    "    fig, ax = plt.subplots(figsize=(12.4, 7))\n",
    "    \n",
    "    # plot partonomy\n",
    "    coords = get_coords(partonomy, dust, find_center(partonomy, dust))\n",
    "    plot_coords(coords, ax)\n",
    "    \n",
    "    # plot dust names\n",
    "    if plot_dust_names:\n",
    "        x0 = list(range(len(dust)))\n",
    "        y0 = np.zeros(len(dust))\n",
    "        for i, d in enumerate(dust):\n",
    "            name = d.rstrip('1234567890')\n",
    "            ax.annotate(name, (x0[i], y0[i]), xytext=(0, -5), textcoords='offset points', rotation=90, ha='center', va='top')\n",
    "    \n",
    "    # format layout\n",
    "    ax.set_xlim([count_dust(dust)/-100,(count_dust(dust)-1)*1.04])\n",
    "    b, t = ax.get_ylim()\n",
    "    maxname = max(len(d.rstrip('1234567890')) for d in dust)\n",
    "    ax.set_ylim([-maxname/40, 1.04])\n",
    "    fig.tight_layout()\n",
    "    ax.set_frame_on(False)\n",
    "    ax.axes.get_yaxis().set_visible(False)\n",
    "    ax.axes.get_xaxis().set_visible(False)\n",
    "    \n",
    "    plt.show"
   ]
  },
  {
   "cell_type": "code",
   "execution_count": null,
   "metadata": {
    "collapsed": true
   },
   "outputs": [],
   "source": [
    "# reexecute third panel with the \"try\" statement"
   ]
  },
  {
   "cell_type": "code",
   "execution_count": null,
   "metadata": {
    "collapsed": true
   },
   "outputs": [],
   "source": []
  }
 ],
 "metadata": {
  "kernelspec": {
   "display_name": "Python 3",
   "language": "python",
   "name": "python3"
  },
  "language_info": {
   "codemirror_mode": {
    "name": "ipython",
    "version": 3
   },
   "file_extension": ".py",
   "mimetype": "text/x-python",
   "name": "python",
   "nbconvert_exporter": "python",
   "pygments_lexer": "ipython3",
   "version": "3.5.1"
  }
 },
 "nbformat": 4,
 "nbformat_minor": 0
}
